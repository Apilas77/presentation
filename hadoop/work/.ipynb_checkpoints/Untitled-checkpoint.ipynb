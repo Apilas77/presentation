{
 "cells": [],
 "metadata": {
  "pycharm": {
   "stem_cell": {
    "cell_type": "raw",
    "source": [
     "!ls\n"
    ],
    "metadata": {
     "collapsed": false
    }
   }
  },
  "kernelspec": {
   "name": "python3",
   "language": "python",
   "display_name": "Python 3"
  }
 },
 "nbformat": 4,
 "nbformat_minor": 5
}