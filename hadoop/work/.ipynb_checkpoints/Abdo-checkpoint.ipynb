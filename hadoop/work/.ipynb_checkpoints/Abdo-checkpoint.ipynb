{
 "cells": [
  {
   "cell_type": "code",
   "execution_count": 1,
   "id": "tough-flush",
   "metadata": {},
   "outputs": [],
   "source": [
    "from pyspark.sql import SparkSession\n",
    "from pyspark.sql.functions import *\n",
    "import pyspark.sql.functions as F\n",
    "import pandas as pd\n",
    "import seaborn as sns\n",
    "import matplotlib.pyplot as plt\n",
    "spark = SparkSession.builder.getOrCreate()"
   ]
  },
  {
   "cell_type": "markdown",
   "id": "abandoned-charlotte",
   "metadata": {},
   "source": [
    "# Lecture des données"
   ]
  },
  {
   "cell_type": "code",
   "execution_count": 2,
   "id": "conventional-surface",
   "metadata": {},
   "outputs": [
    {
     "ename": "AnalysisException",
     "evalue": "Path does not exist: file:/home/jovyan/work/data/covid-hospit-incid-reg-2021-01-20-19h20.csv;",
     "output_type": "error",
     "traceback": [
      "\u001b[0;31m---------------------------------------------------------------------------\u001b[0m",
      "\u001b[0;31mAnalysisException\u001b[0m                         Traceback (most recent call last)",
      "\u001b[0;32m<ipython-input-2-4164f2f2d1ad>\u001b[0m in \u001b[0;36m<module>\u001b[0;34m\u001b[0m\n\u001b[1;32m      1\u001b[0m \u001b[0mpath\u001b[0m \u001b[0;34m=\u001b[0m \u001b[0;34m\"./data/covid-hospit-incid-reg-2021-01-20-19h20.csv\"\u001b[0m\u001b[0;34m\u001b[0m\u001b[0;34m\u001b[0m\u001b[0m\n\u001b[1;32m      2\u001b[0m \u001b[0;31m# lecture d'un fichier de manière la plus brute\u001b[0m\u001b[0;34m\u001b[0m\u001b[0;34m\u001b[0m\u001b[0;34m\u001b[0m\u001b[0m\n\u001b[0;32m----> 3\u001b[0;31m \u001b[0mdf\u001b[0m \u001b[0;34m=\u001b[0m \u001b[0mspark\u001b[0m\u001b[0;34m.\u001b[0m\u001b[0mread\u001b[0m\u001b[0;34m.\u001b[0m\u001b[0mformat\u001b[0m\u001b[0;34m(\u001b[0m\u001b[0;34m'csv'\u001b[0m\u001b[0;34m)\u001b[0m\u001b[0;34m.\u001b[0m\u001b[0moptions\u001b[0m\u001b[0;34m(\u001b[0m\u001b[0mheader\u001b[0m\u001b[0;34m=\u001b[0m\u001b[0;32mTrue\u001b[0m\u001b[0;34m,\u001b[0m \u001b[0minferShema\u001b[0m\u001b[0;34m=\u001b[0m\u001b[0;32mTrue\u001b[0m\u001b[0;34m,\u001b[0m \u001b[0mdelimiter\u001b[0m\u001b[0;34m=\u001b[0m\u001b[0;34m';'\u001b[0m\u001b[0;34m)\u001b[0m\u001b[0;34m.\u001b[0m\u001b[0mload\u001b[0m\u001b[0;34m(\u001b[0m\u001b[0mpath\u001b[0m\u001b[0;34m)\u001b[0m\u001b[0;34m\u001b[0m\u001b[0;34m\u001b[0m\u001b[0m\n\u001b[0m\u001b[1;32m      4\u001b[0m \u001b[0mdf\u001b[0m\u001b[0;34m.\u001b[0m\u001b[0mdtypes\u001b[0m\u001b[0;34m\u001b[0m\u001b[0;34m\u001b[0m\u001b[0m\n",
      "\u001b[0;32m/usr/local/spark/python/pyspark/sql/readwriter.py\u001b[0m in \u001b[0;36mload\u001b[0;34m(self, path, format, schema, **options)\u001b[0m\n\u001b[1;32m    176\u001b[0m         \u001b[0mself\u001b[0m\u001b[0;34m.\u001b[0m\u001b[0moptions\u001b[0m\u001b[0;34m(\u001b[0m\u001b[0;34m**\u001b[0m\u001b[0moptions\u001b[0m\u001b[0;34m)\u001b[0m\u001b[0;34m\u001b[0m\u001b[0;34m\u001b[0m\u001b[0m\n\u001b[1;32m    177\u001b[0m         \u001b[0;32mif\u001b[0m \u001b[0misinstance\u001b[0m\u001b[0;34m(\u001b[0m\u001b[0mpath\u001b[0m\u001b[0;34m,\u001b[0m \u001b[0mbasestring\u001b[0m\u001b[0;34m)\u001b[0m\u001b[0;34m:\u001b[0m\u001b[0;34m\u001b[0m\u001b[0;34m\u001b[0m\u001b[0m\n\u001b[0;32m--> 178\u001b[0;31m             \u001b[0;32mreturn\u001b[0m \u001b[0mself\u001b[0m\u001b[0;34m.\u001b[0m\u001b[0m_df\u001b[0m\u001b[0;34m(\u001b[0m\u001b[0mself\u001b[0m\u001b[0;34m.\u001b[0m\u001b[0m_jreader\u001b[0m\u001b[0;34m.\u001b[0m\u001b[0mload\u001b[0m\u001b[0;34m(\u001b[0m\u001b[0mpath\u001b[0m\u001b[0;34m)\u001b[0m\u001b[0;34m)\u001b[0m\u001b[0;34m\u001b[0m\u001b[0;34m\u001b[0m\u001b[0m\n\u001b[0m\u001b[1;32m    179\u001b[0m         \u001b[0;32melif\u001b[0m \u001b[0mpath\u001b[0m \u001b[0;32mis\u001b[0m \u001b[0;32mnot\u001b[0m \u001b[0;32mNone\u001b[0m\u001b[0;34m:\u001b[0m\u001b[0;34m\u001b[0m\u001b[0;34m\u001b[0m\u001b[0m\n\u001b[1;32m    180\u001b[0m             \u001b[0;32mif\u001b[0m \u001b[0mtype\u001b[0m\u001b[0;34m(\u001b[0m\u001b[0mpath\u001b[0m\u001b[0;34m)\u001b[0m \u001b[0;34m!=\u001b[0m \u001b[0mlist\u001b[0m\u001b[0;34m:\u001b[0m\u001b[0;34m\u001b[0m\u001b[0;34m\u001b[0m\u001b[0m\n",
      "\u001b[0;32m/usr/local/spark/python/lib/py4j-0.10.9-src.zip/py4j/java_gateway.py\u001b[0m in \u001b[0;36m__call__\u001b[0;34m(self, *args)\u001b[0m\n\u001b[1;32m   1302\u001b[0m \u001b[0;34m\u001b[0m\u001b[0m\n\u001b[1;32m   1303\u001b[0m         \u001b[0manswer\u001b[0m \u001b[0;34m=\u001b[0m \u001b[0mself\u001b[0m\u001b[0;34m.\u001b[0m\u001b[0mgateway_client\u001b[0m\u001b[0;34m.\u001b[0m\u001b[0msend_command\u001b[0m\u001b[0;34m(\u001b[0m\u001b[0mcommand\u001b[0m\u001b[0;34m)\u001b[0m\u001b[0;34m\u001b[0m\u001b[0;34m\u001b[0m\u001b[0m\n\u001b[0;32m-> 1304\u001b[0;31m         return_value = get_return_value(\n\u001b[0m\u001b[1;32m   1305\u001b[0m             answer, self.gateway_client, self.target_id, self.name)\n\u001b[1;32m   1306\u001b[0m \u001b[0;34m\u001b[0m\u001b[0m\n",
      "\u001b[0;32m/usr/local/spark/python/pyspark/sql/utils.py\u001b[0m in \u001b[0;36mdeco\u001b[0;34m(*a, **kw)\u001b[0m\n\u001b[1;32m    132\u001b[0m                 \u001b[0;31m# Hide where the exception came from that shows a non-Pythonic\u001b[0m\u001b[0;34m\u001b[0m\u001b[0;34m\u001b[0m\u001b[0;34m\u001b[0m\u001b[0m\n\u001b[1;32m    133\u001b[0m                 \u001b[0;31m# JVM exception message.\u001b[0m\u001b[0;34m\u001b[0m\u001b[0;34m\u001b[0m\u001b[0;34m\u001b[0m\u001b[0m\n\u001b[0;32m--> 134\u001b[0;31m                 \u001b[0mraise_from\u001b[0m\u001b[0;34m(\u001b[0m\u001b[0mconverted\u001b[0m\u001b[0;34m)\u001b[0m\u001b[0;34m\u001b[0m\u001b[0;34m\u001b[0m\u001b[0m\n\u001b[0m\u001b[1;32m    135\u001b[0m             \u001b[0;32melse\u001b[0m\u001b[0;34m:\u001b[0m\u001b[0;34m\u001b[0m\u001b[0;34m\u001b[0m\u001b[0m\n\u001b[1;32m    136\u001b[0m                 \u001b[0;32mraise\u001b[0m\u001b[0;34m\u001b[0m\u001b[0;34m\u001b[0m\u001b[0m\n",
      "\u001b[0;32m/usr/local/spark/python/pyspark/sql/utils.py\u001b[0m in \u001b[0;36mraise_from\u001b[0;34m(e)\u001b[0m\n",
      "\u001b[0;31mAnalysisException\u001b[0m: Path does not exist: file:/home/jovyan/work/data/covid-hospit-incid-reg-2021-01-20-19h20.csv;"
     ]
    }
   ],
   "source": [
    "path = \"./data/covid-hospit-incid-reg-2021-01-20-19h20.csv\"\n",
    "# lecture d'un fichier de manière la plus brute\n",
    "df = spark.read.format('csv').options(header=True, inferShema=True, delimiter=';').load(path)\n",
    "df.dtypes"
   ]
  },
  {
   "cell_type": "markdown",
   "id": "bibliographic-recruitment",
   "metadata": {},
   "source": [
    "## Checking dataframe size"
   ]
  },
  {
   "cell_type": "code",
   "execution_count": null,
   "id": "persistent-fighter",
   "metadata": {},
   "outputs": [],
   "source": [
    "print('File row number :%d' %df.count())"
   ]
  },
  {
   "cell_type": "markdown",
   "id": "linear-abraham",
   "metadata": {},
   "source": [
    "## Checking unique values of a column"
   ]
  },
  {
   "cell_type": "code",
   "execution_count": null,
   "id": "vanilla-hughes",
   "metadata": {},
   "outputs": [],
   "source": [
    "# All Regions \n",
    "df.select('nomReg').distinct().show(df.count())"
   ]
  },
  {
   "cell_type": "markdown",
   "id": "august-batman",
   "metadata": {},
   "source": [
    "## Nombre d'admission depuis le début du COVID19 / Région "
   ]
  },
  {
   "cell_type": "code",
   "execution_count": null,
   "id": "shaped-transparency",
   "metadata": {},
   "outputs": [],
   "source": [
    "df_with_total = df.groupBy(\"nomReg\").agg({\"incid_rea\" : \"sum\"})\n",
    "df_with_total.collect()"
   ]
  },
  {
   "cell_type": "code",
   "execution_count": null,
   "id": "searching-roots",
   "metadata": {},
   "outputs": [],
   "source": [
    "## Les Régions les plus frappés par le COVID19\n",
    "df_with_total.sort(desc(\"sum(incid_rea)\")).collect()"
   ]
  },
  {
   "cell_type": "code",
   "execution_count": null,
   "id": "bottom-creature",
   "metadata": {},
   "outputs": [],
   "source": [
    "df_with_total= df_with_total.withColumnRenamed(\"sum(incid_rea)\",\"Total\")\n",
    "df_with_total\n"
   ]
  },
  {
   "cell_type": "code",
   "execution_count": null,
   "id": "reverse-arrow",
   "metadata": {},
   "outputs": [],
   "source": [
    "test_df = df_with_total.toPandas()\n",
    "sns.barplot(x=\"Total\", y=\"nomReg\", data=test_df)"
   ]
  },
  {
   "cell_type": "markdown",
   "id": "macro-consistency",
   "metadata": {},
   "source": [
    "## Progression d'admission au Réa pour chaque region du Covid19"
   ]
  },
  {
   "cell_type": "code",
   "execution_count": null,
   "id": "arbitrary-security",
   "metadata": {},
   "outputs": [],
   "source": [
    "g = sns.FacetGrid(df.toPandas(), col='nomReg', hue='nomReg', col_wrap=4, )\n",
    " \n",
    "g = g.map(plt.plot, 'jour', 'incid_rea')\n",
    "\n",
    "g = g.map(plt.fill_between, 'jour', 'incid_rea', alpha=0.2).set_titles(\"{col_name} nomReg\")\n",
    "\n",
    "g = g.set_titles(\"{col_name}\")\n",
    " \n",
    "# Add a title for the whole plo\n",
    "plt.subplots_adjust(top=0.92)\n",
    "g = g.fig.suptitle(\"Evolution d'admission en Réa\")\n",
    " \n",
    "plot.show()"
   ]
  },
  {
   "cell_type": "code",
   "execution_count": null,
   "id": "great-evanescence",
   "metadata": {},
   "outputs": [],
   "source": [
    "result = (df.groupBy(F.date_format('jour', 'yyyy_MM').alias('month'), 'nomReg')\n",
    "            .agg(F.avg('incid_rea').alias('mean'))\n",
    "         )\n",
    "result.show()"
   ]
  },
  {
   "cell_type": "code",
   "execution_count": null,
   "id": "afraid-audience",
   "metadata": {},
   "outputs": [],
   "source": [
    "result.toPandas().reset_index()\n",
    "result\n",
    "plt.figure(figsize=(15,8))\n",
    "sns.lineplot(data=result.toPandas(), x=\"month\", y=\"mean\", hue=\"nomReg\")"
   ]
  },
  {
   "cell_type": "code",
   "execution_count": null,
   "id": "smaller-mauritius",
   "metadata": {},
   "outputs": [],
   "source": []
  }
 ],
 "metadata": {
  "kernelspec": {
   "display_name": "Python 3",
   "language": "python",
   "name": "python3"
  },
  "language_info": {
   "codemirror_mode": {
    "name": "ipython",
    "version": 3
   },
   "file_extension": ".py",
   "mimetype": "text/x-python",
   "name": "python",
   "nbconvert_exporter": "python",
   "pygments_lexer": "ipython3",
   "version": "3.8.6"
  }
 },
 "nbformat": 4,
 "nbformat_minor": 5
}
